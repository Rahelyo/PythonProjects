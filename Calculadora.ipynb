{
  "nbformat": 4,
  "nbformat_minor": 0,
  "metadata": {
    "colab": {
      "provenance": []
    },
    "kernelspec": {
      "name": "python3",
      "display_name": "Python 3"
    },
    "language_info": {
      "name": "python"
    }
  },
  "cells": [
    {
      "cell_type": "code",
      "execution_count": 3,
      "metadata": {
        "colab": {
          "base_uri": "https://localhost:8080/"
        },
        "id": "yG5RtUTNrljI",
        "outputId": "17bb5420-f6a2-4f14-b228-26b92bd43410"
      },
      "outputs": [
        {
          "output_type": "stream",
          "name": "stdout",
          "text": [
            "========Calculaora de operações básicas ==================\n",
            "\n",
            "Digite um numero: 8\n",
            "\n",
            "Digite outro numero: 9\n",
            "\n",
            "Escolha a operação desejada:\n",
            "1 - Soma\n",
            "2 - Subtração\n",
            "3 - Multiplicação\n",
            "4 - Divisão\n",
            "\n",
            "Escolha uma operação a executar (1 a 4): 7\n",
            "\n",
            "Opção invalida\n",
            "\n",
            "Deseja continuar? (s/n): t\n",
            "\n",
            "Finalizando aplicação\n"
          ]
        }
      ],
      "source": [
        "print(\"========Calculaora de operações básicas ==================\")\n",
        "\n",
        "#Enquanto usuário quiser calculará\n",
        "\n",
        "while True:\n",
        "\n",
        "#Usuário inserirá dois valores\n",
        "\n",
        "    num1 = float(input(\"\\nDigite um numero: \"))\n",
        "    num2 = float(input(\"\\nDigite outro numero: \"))\n",
        "\n",
        "# Menu de opções das operações possiveis\n",
        "\n",
        "    print(\"\\nEscolha a operação desejada:\")\n",
        "    print(\"1 - Soma\")\n",
        "    print(\"2 - Subtração\")\n",
        "    print(\"3 - Multiplicação\")\n",
        "    print(\"4 - Divisão\")\n",
        "\n",
        "    escolha = int(input(\"\\nEscolha uma operação a executar (1 a 4): \"))\n",
        "\n",
        "# Estrutura de condições segundo escolha do usuário.\n",
        "\n",
        "    if escolha == 1:\n",
        "        print(num1 + num2)\n",
        "    elif escolha == 2:\n",
        "        print(num1 - num2)\n",
        "    elif escolha == 3:\n",
        "        print(num1 * num2)\n",
        "    elif escolha == 4:\n",
        "\n",
        "#Caso escolha divisão deverá atentar-se que não é possivel divisão por 0.\n",
        "\n",
        "        if num2 != 0:\n",
        "            print(num1 / num2)\n",
        "        else:\n",
        "            print(\"\\nValor inexistente quando divisivel por zero\")\n",
        "    else:\n",
        "        print(\"\\nOpção invalida\")\n",
        "\n",
        "    continuar = input(\"\\nDeseja continuar? (s/n): \")\n",
        "\n",
        "#Caso o usuário opte por qualquer valor diferente do sim(s) a aplicação será finalizada\n",
        "\n",
        "    if continuar.lower() != \"s\":\n",
        "        print(\"\\nFinalizando aplicação\")\n",
        "        break\n"
      ]
    },
    {
      "cell_type": "code",
      "source": [],
      "metadata": {
        "id": "2kdpce_TuXvf"
      },
      "execution_count": null,
      "outputs": []
    }
  ]
}